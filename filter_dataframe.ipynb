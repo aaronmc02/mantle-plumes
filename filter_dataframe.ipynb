{
 "cells": [
  {
   "cell_type": "code",
   "execution_count": 6,
   "metadata": {},
   "outputs": [],
   "source": [
    "import pandas as pd\n",
    "dataframe = pd.read_csv('2800_votemap_txt.txt')\n",
    "\n",
    "filtered_dataframe = dataframe[dataframe['Vote'] >= 3] # filter for only 3 votes or more\n",
    "filtered_dataframe.to_csv('2800_vote_filtered.csv') # create new file with filtered data"
   ]
  }
 ],
 "metadata": {
  "kernelspec": {
   "display_name": "Python 3",
   "language": "python",
   "name": "python3"
  },
  "language_info": {
   "codemirror_mode": {
    "name": "ipython",
    "version": 3
   },
   "file_extension": ".py",
   "mimetype": "text/x-python",
   "name": "python",
   "nbconvert_exporter": "python",
   "pygments_lexer": "ipython3",
   "version": "3.8.3"
  }
 },
 "nbformat": 4,
 "nbformat_minor": 4
}
